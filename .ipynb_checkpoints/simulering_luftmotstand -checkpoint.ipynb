{
 "cells": [
  {
   "attachments": {
    "4d888adb-e0a3-4372-9679-98649ef12ed9.png": {
     "image/png": "[encoded data removed]"
    }
   },
   "cell_type": "markdown",
   "id": "cfc71504-dc09-4ddd-9e62-7346a27eced8",
   "metadata": {},
   "source": [
    "### Muffinsform\n",
    "![image.png](attachment:4d888adb-e0a3-4372-9679-98649ef12ed9.png)\n",
    "\n",
    "* Bruk figuren over pluss det du vet om luftmotstand til å utlede utrykket: \n",
    "$a=\\frac{k\\cdot v^2}{m} -g$\n",
    "som viser at akselerasjonen til muffinsformen varierer med farten.\n",
    "* Hvilken retning er valgt som positiv? \n",
    "* Før du går videre i programmet. Lag en skisse av hvordan du tror en posisjonsgraf, en fartsgraf og en akselerasjonsgraf ser ut om du slepper fire muffinsformer stabelt i hverandre fra ca. to meter. "
   ]
  },
  {
   "cell_type": "markdown",
   "id": "eb193e1c-8e7b-4992-8f6a-1c1f6a821b6e",
   "metadata": {},
   "source": []
  },
  {
   "cell_type": "markdown",
   "id": "48ade50a-c4c1-4285-8e50-3c930a672022",
   "metadata": {},
   "source": [
    "#### Modell\n",
    "Siden farten er avhenig av akselerasjonen og akselerasjonen er avhengig av farten er oppgaver med luftmotstand vanskelig (men ikke umulig) å løse algebrisk. Vi kan i stedet løse disse problemene numerisk. Ved å se på veldig små tidperioder om gangen er akselerasjonen *nesten* konstant. Vi bruker derfor formlene for konstant akselerasjon til å finne ny fart, så bruker vi den nye farten til å finne ny akselerasjon. Når vi gjentar i veldig små steg blir feilen vi introduserer liten og modellen vår gjengir virkligheten på en god måte.\n",
    "\n",
    "**Diskuter koden med den du sitter med, forstår dere fysikken i koden?**\n"
   ]
  },
  {
   "cell_type": "code",
   "execution_count": null,
   "id": "79cefe45-937a-41dc-a2f6-83ac01aa3667",
   "metadata": {},
   "outputs": [],
   "source": [
    "import matplotlib.pyplot as plt\n",
    "import numpy as np\n",
    "\n",
    "# setter startverdier\n",
    "t=0 #s\n",
    "h=2.5 #m\n",
    "v=0 # m/s\n",
    "g=9.81 #m/s^2\n",
    "a=-g\n",
    "dt=0.01 #s - steglengden\n",
    "m=4*0.43E-3 #kg - antall muffinsformer gange massen av 1 en form\n",
    "k=0.003 #kg/m\n",
    "\n",
    "# lager tomme lister til å samle opp de utregnede verdiene\n",
    "tid=[]\n",
    "hoyde=[]\n",
    "fart=[]\n",
    "akselerasjon=[]\n",
    "\n",
    "# kjører løkken \n",
    "while h>0:\n",
    "    #samler opp verdiene i lister,begynner med startverdiene\n",
    "    tid.append(t)\n",
    "    hoyde.append(h)\n",
    "    fart.append(v)\n",
    "    akselerasjon.append(a)\n",
    "    \n",
    "    #regner ut nye verdier for neste dt-periode.\n",
    "    #HER SKJER FYSIKKEN :)\n",
    "   \n",
    "    a=(k*v**2)/m-g  #regner ut en ny akselerasjon med den gamle farten\n",
    "    v=v+a*dt        #Holder akselersjonen konstant i 0.01 sekund og regner ut \n",
    "    h=h+v*dt        # ny fart, ny høyde og ny tid \n",
    "    t=t+dt\n",
    "\n",
    "# Lager en figur som deles opp i tre deler for å lage tre plott\n",
    "fig, (ax1, ax2, ax3) = plt.subplots(1, 3, figsize = (13,6))\n",
    "fig.suptitle('Fall med luftmotstand',fontsize=18)\n",
    "\n",
    "# Plotter høyde, fart og akselerasjon i hver sitt plott\n",
    "ax1.plot(tid, hoyde)\n",
    "ax1.set_title(\"Høyde i $m$\")\n",
    "ax2.plot(tid, fart)\n",
    "ax2.set_title(\"Fart i $m/s$\")\n",
    "ax3.plot(tid,akselerasjon)\n",
    "ax3.set_title(\"Akselerasjon i $m/s^2$\")\n",
    "\n",
    "plt.show()"
   ]
  },
  {
   "cell_type": "markdown",
   "id": "3e6314f2-a3c8-4ca5-a8bd-7e0d3d1439b8",
   "metadata": {},
   "source": [
    "Ble grafene som forventet? Prøv med ulikt antall muffinsformer for å se hvordan grafene endrer seg. \n",
    "\n",
    "Undersøk: \n",
    "* hvor mange kan du stable opp i hverandre og fortsatt få en stortsett rettlinjet posisjonsgraf? \n",
    "* Hvor mange må du stable opp i hverandre før formene ikke rekker å nå terminalfart før den når gulvet? "
   ]
  },
  {
   "cell_type": "markdown",
   "id": "4bd2b3b6-cb58-4a1a-91b1-e381b381ed74",
   "metadata": {},
   "source": [
    "---\n",
    "### Falskjerm\n",
    "Se filmen før du går videre.   \n",
    "Om filmen ikke kjører i notebooken:\n",
    "https://www.youtube.com/watch?v=09PZ3n5Xfto"
   ]
  },
  {
   "cell_type": "code",
   "execution_count": 1,
   "id": "dfea30e4-2dff-4352-86a8-263d3f4f382b",
   "metadata": {},
   "outputs": [
    {
     "data": {
      "text/html": [
       "<iframe width=\"560\" height=\"315\" src=\"https://www.youtube.com/embed/09PZ3n5Xfto?si=bM6vn3dPPZYPohVV\" title=\"YouTube video player\" frameborder=\"0\" allow=\"accelerometer; autoplay; clipboard-write; encrypted-media; gyroscope; picture-in-picture; web-share\" allowfullscreen></iframe>\n"
      ],
      "text/plain": [
       "<IPython.core.display.HTML object>"
      ]
     },
     "metadata": {},
     "output_type": "display_data"
    }
   ],
   "source": [
    "%%html\n",
    "<iframe width=\"560\" height=\"315\" src=\"https://www.youtube.com/embed/09PZ3n5Xfto?si=bM6vn3dPPZYPohVV\" title=\"YouTube video player\" frameborder=\"0\" allow=\"accelerometer; autoplay; clipboard-write; encrypted-media; gyroscope; picture-in-picture; web-share\" allowfullscreen></iframe>\n"
   ]
  },
  {
   "cell_type": "markdown",
   "id": "08816db1-37db-4191-a3ab-a8067f4d2412",
   "metadata": {},
   "source": [
    "Du skal nå modifisere koden over slik at modellen handler om et falskjermhopp fra 12500 ft $\\approx$ 3800 m.\n",
    "Anta at falskjermhopperen har massen 75 kg.\n",
    "\n",
    "Når en falskjermhopper ligger med magen mot bakken og armer og bein ut til siden er tommelfingerregelen at terminalfarten blir ca 200 km/h. \n",
    "\n",
    "Hvilken verdi gir denne farten for konstanten *k* i modellen for luftmotstand?\n",
    "\n",
    "Det er ugunstig å lande i 200 km/h så når høyden er ca 3000ft $\\approx$ 914 m utløses fallskjermen og vi får en ny verdi for *k*. Hva må *k* være dersom falskjermhoppere ønsker å lande med (terminal)farten 5 m/s?   \n"
   ]
  },
  {
   "cell_type": "code",
   "execution_count": null,
   "id": "b8e16c76-7b89-4545-bf26-2fac188f307b",
   "metadata": {},
   "outputs": [],
   "source": [
    "# kopier den gamle koden, fiks programmet slik at parametrene blir riktig og \n",
    "# at \"rett\" k brukes til rett tid.\n"
   ]
  },
  {
   "cell_type": "markdown",
   "id": "1dc717d8-f35f-427b-bdf8-683ee41a32fa",
   "metadata": {},
   "source": [
    "Ble grafeene som forventet? Er det noe ved modellene som er urealistisk?\n",
    "\n",
    "Kan du gjøre forandringer på programmet slik at det skriver ut svaret på følgende spørsmål\n",
    "* Hvor lang tid får falskjermhopperen være i luften før hun må \"trekke i snoren\"?\n",
    "* Hvor lang tid tar det før hun oppnår terminalfart? hint abs(v-v_max)< 0.01\n",
    "* Hvor lang tid tar hele hoppet og hvilken gjennomsnitsfart tilsvarer det.\n",
    "* Hva er den største akselerasjonen fallskjermhopperen opplever i følge denne modellen? Beregn både i $m/s^2$ og $g$ (prøv å google *highest g-force survived*)\n"
   ]
  },
  {
   "cell_type": "markdown",
   "id": "72a6a507-d681-4524-ae10-bb42bdf9d133",
   "metadata": {},
   "source": []
  },
  {
   "cell_type": "markdown",
   "id": "445c1eba-dcda-49ae-bdea-465c5f996047",
   "metadata": {},
   "source": [
    "\n",
    "**Utfordring**\n",
    "Kan du bruke følgende sitat:\n",
    "\"*Main canopies in sport skydiving are configured so that the opening time is relatively slow 2–3 seconds or so. This gives a gentler opening shock and an overall more pleasant jump*\" til å utbedre modellen slik at akselerasjonkurven blir mer troverdig.\n"
   ]
  },
  {
   "cell_type": "code",
   "execution_count": null,
   "id": "6c5de4d1-734e-4a96-a84c-186d11aa4bc6",
   "metadata": {},
   "outputs": [],
   "source": []
  }
 ],
 "metadata": {
  "kernelspec": {
   "display_name": "Python 3 (ipykernel)",
   "language": "python",
   "name": "python3"
  },
  "language_info": {
   "codemirror_mode": {
    "name": "ipython",
    "version": 3
   },
   "file_extension": ".py",
   "mimetype": "text/x-python",
   "name": "python",
   "nbconvert_exporter": "python",
   "pygments_lexer": "ipython3",
   "version": "3.11.10"
  }
 },
 "nbformat": 4,
 "nbformat_minor": 5
}
